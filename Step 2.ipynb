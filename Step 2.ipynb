{
 "cells": [
  {
   "cell_type": "code",
   "execution_count": 1,
   "metadata": {},
   "outputs": [],
   "source": [
    "import numpy as np\n",
    "import re\n",
    "import datetime as dt\n",
    "\n",
    "import sqlalchemy\n",
    "from sqlalchemy.ext.automap import automap_base\n",
    "from sqlalchemy.orm import Session\n",
    "from sqlalchemy import create_engine, func\n",
    "from sqlalchemy.sql import exists  \n",
    "\n",
    "from flask import Flask, jsonify"
   ]
  },
  {
   "cell_type": "code",
   "execution_count": 2,
   "metadata": {},
   "outputs": [],
   "source": [
    "engine = create_engine(\"sqlite:///hawaii2.sqlite\")\n",
    "\n",
    "# reflect an existing database into a new model\n",
    "Base = automap_base()\n",
    "# reflect the tables\n",
    "Base.prepare(engine, reflect=True)\n",
    "\n",
    "# Save reference to the tables\n",
    "Measurement = Base.classes.measurement\n",
    "Station = Base.classes.station"
   ]
  },
  {
   "cell_type": "code",
   "execution_count": 3,
   "metadata": {},
   "outputs": [],
   "source": [
    "app = Flask(__name__)"
   ]
  },
  {
   "cell_type": "code",
   "execution_count": 4,
   "metadata": {},
   "outputs": [],
   "source": [
    "@app.route(\"/\")\n",
    "def welcome():\n",
    "    \"\"\"List all available api routes.\"\"\"\n",
    "    return (\n",
    "        f\"Available Routes:<br/>\"\n",
    "        f\"/api/v1.0/precipitation<br/>\"\n",
    "        f\"/api/v1.0/stations<br/>\"\n",
    "        f\"/api/v1.0/tobs<br/>\"\n",
    "        f\"/api/v1.0/start (enter as YYYY-MM-DD)<br/>\"\n",
    "        f\"/api/v1.0/start/end (enter as YYYY-MM-DD/YYYY-MM-DD)\"\n",
    "\n",
    "    )\n",
    "\n",
    "@app.route(\"/api/v1.0/precipitation\") \n",
    "def precipitation():\n",
    "    \n",
    "    session = Session(engine)\n",
    "\n",
    "    # Query Measurement\n",
    "    results = (session.query(Measurement.date, Measurement.tobs)\n",
    "                      .order_by(Measurement.date))\n",
    "    \n",
    "    # Create a dictionary\n",
    "    precipitation_date_tobs = []\n",
    "    for each_row in results:\n",
    "        dt_dict = {}\n",
    "        dt_dict[\"date\"] = each_row.date\n",
    "        dt_dict[\"tobs\"] = each_row.tobs\n",
    "        precipitation_date_tobs.append(dt_dict)\n",
    "\n",
    "    return jsonify(precipitation_date_tobs)\n",
    "\n",
    "@app.route(\"/api/v1.0/stations\") #Return a JSON list of stations from the dataset\n",
    "def stations():\n",
    "    # Create session (link) from Python to the DB\n",
    "    session = Session(engine)\n",
    "\n",
    "    # Query Stations\n",
    "    results = session.query(Station.name).all()\n",
    "\n",
    "    # Convert list of tuples into normal list\n",
    "    station_details = list(np.ravel(results))\n",
    "\n",
    "    return jsonify(station_details)"
   ]
  },
  {
   "cell_type": "code",
   "execution_count": 5,
   "metadata": {},
   "outputs": [],
   "source": [
    "@app.route(\"/api/v1.0/tobs\") # Query the dates and temperature observations of the most active station for the last year of data\n",
    "def tobs():\n",
    "    # Create our session (link) from Python to the DB\n",
    "    session = Session(engine)\n",
    "\n",
    "    # Query Measurements for latest date and calculate query_start_date\n",
    "    latest_date = (session.query(Measurement.date)\n",
    "                          .order_by(Measurement.date\n",
    "                          .desc())\n",
    "                          .first())\n",
    "    \n",
    "    latest_date_str = str(latest_date)\n",
    "    latest_date_str = re.sub(\"'|,\", \"\",latest_date_str)\n",
    "    latest_date_obj = dt.datetime.strptime(latest_date_str, '(%Y-%m-%d)')\n",
    "    query_start_date = dt.date(latest_date_obj.year, latest_date_obj.month, latest_date_obj.day) - dt.timedelta(days=366)\n",
    "     \n",
    "    # Query station names and their observation counts sorted descending and select most active station\n",
    "    q_station_list = (session.query(Measurement.station, func.count(Measurement.station))\n",
    "                             .group_by(Measurement.station)\n",
    "                             .order_by(func.count(Measurement.station).desc())\n",
    "                             .all())\n",
    "    \n",
    "    station_hno = q_station_list[0][0]\n",
    "    print(station_hno)"
   ]
  },
  {
   "cell_type": "code",
   "execution_count": 6,
   "metadata": {},
   "outputs": [],
   "source": [
    "@app.route(\"/api/v1.0/<start>\") # Calculate `TMIN`, `TAVG`, and `TMAX` for all dates greater than and equal to the start date\n",
    "def start_only(start):\n",
    "\n",
    "    # Create session (link) from Python to the DB\n",
    "    session = Session(engine)\n",
    "\n",
    "    # Date Range (only for help to user in case date gets entered wrong)\n",
    "    date_range_max = session.query(Measurement.date).order_by(Measurement.date.desc()).first()\n",
    "    date_range_max_str = str(date_range_max)\n",
    "    date_range_max_str = re.sub(\"'|,\", \"\",date_range_max_str)\n",
    "    print (date_range_max_str)\n",
    "\n",
    "    date_range_min = session.query(Measurement.date).first()\n",
    "    date_range_min_str = str(date_range_min)\n",
    "    date_range_min_str = re.sub(\"'|,\", \"\",date_range_min_str)\n",
    "    print (date_range_min_str)\n",
    "    valid_entry = session.query(exists().where(Measurement.date == start)).scalar()\n",
    "\n",
    "    if valid_entry:\n",
    "        results = (session.query(func.min(Measurement.tobs)\n",
    "                            ,func.avg(Measurement.tobs)\n",
    "                            ,func.max(Measurement.tobs))\n",
    "                                    .filter(Measurement.date >= start).all())\n",
    "\n",
    "        tmin =results[0][0]\n",
    "        tavg ='{0:.4}'.format(results[0][1])\n",
    "        tmax =results[0][2]\n",
    "\n",
    "        result_printout =(['Entered Start Date: ' + start,\n",
    "                        'The lowest Temperature was: '  + str(tmin) + ' F',\n",
    "                        'The average Temperature was: ' + str(tavg) + ' F',\n",
    "                        'The highest Temperature was: ' + str(tmax) + ' F'])\n",
    "        return jsonify(result_printout)"
   ]
  },
  {
   "cell_type": "code",
   "execution_count": null,
   "metadata": {},
   "outputs": [],
   "source": []
  },
  {
   "cell_type": "code",
   "execution_count": null,
   "metadata": {},
   "outputs": [],
   "source": []
  }
 ],
 "metadata": {
  "interpreter": {
   "hash": "2bf83f639914dcaf3d2ad3585e70ec591916a38397245a9cb282e2bc51439df9"
  },
  "kernelspec": {
   "display_name": "Python 3 (ipykernel)",
   "language": "python",
   "name": "python3"
  },
  "language_info": {
   "codemirror_mode": {
    "name": "ipython",
    "version": 3
   },
   "file_extension": ".py",
   "mimetype": "text/x-python",
   "name": "python",
   "nbconvert_exporter": "python",
   "pygments_lexer": "ipython3",
   "version": "3.9.7"
  }
 },
 "nbformat": 4,
 "nbformat_minor": 4
}
